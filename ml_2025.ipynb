{
  "nbformat": 4,
  "nbformat_minor": 0,
  "metadata": {
    "colab": {
      "provenance": [],
      "gpuType": "T4",
      "include_colab_link": true
    },
    "kernelspec": {
      "name": "python3",
      "display_name": "Python 3"
    },
    "language_info": {
      "name": "python"
    },
    "accelerator": "GPU"
  },
  "cells": [
    {
      "cell_type": "markdown",
      "metadata": {
        "id": "view-in-github",
        "colab_type": "text"
      },
      "source": [
        "<a href=\"https://colab.research.google.com/github/bortolottoc/test/blob/main/ml_2025.ipynb\" target=\"_parent\"><img src=\"https://colab.research.google.com/assets/colab-badge.svg\" alt=\"Open In Colab\"/></a>"
      ]
    },
    {
      "cell_type": "markdown",
      "source": [
        "# Installation\n",
        "\n",
        "## Mount gdrive and clone repository"
      ],
      "metadata": {
        "id": "V0rnLSz8RVOx"
      }
    },
    {
      "cell_type": "code",
      "execution_count": null,
      "metadata": {
        "colab": {
          "base_uri": "https://localhost:8080/"
        },
        "id": "HOKdXx_yjhna",
        "outputId": "704178b3-6ecf-4775-dcb0-ced1c088c4ef"
      },
      "outputs": [
        {
          "output_type": "stream",
          "name": "stdout",
          "text": [
            "Mounted at /content/gdrive\n"
          ]
        }
      ],
      "source": [
        "from google.colab import drive\n",
        "drive.mount(\"/content/gdrive\")"
      ]
    },
    {
      "cell_type": "code",
      "source": [
        "!mkdir -p /content/gdrive/MyDrive/ml2025-colab_files/\n",
        "%cd /content/gdrive/MyDrive/ml2025-colab_files/"
      ],
      "metadata": {
        "colab": {
          "base_uri": "https://localhost:8080/"
        },
        "id": "oHfTrX3tlx_U",
        "outputId": "9dca3cb1-c376-438f-ee26-1b764750d600",
        "collapsed": true
      },
      "execution_count": null,
      "outputs": [
        {
          "output_type": "stream",
          "name": "stdout",
          "text": [
            "/content/gdrive/MyDrive/ml2025-colab_files\n"
          ]
        }
      ]
    },
    {
      "cell_type": "code",
      "source": [
        "!git clone \"https://github.com/ganacim/ml-2025\"\n",
        "%cd ml-2025"
      ],
      "metadata": {
        "colab": {
          "base_uri": "https://localhost:8080/"
        },
        "id": "dur3O2JASSbe",
        "outputId": "6944a39c-2d21-4ad4-822f-3c8e05994d42",
        "collapsed": true
      },
      "execution_count": null,
      "outputs": [
        {
          "output_type": "stream",
          "name": "stdout",
          "text": [
            "fatal: destination path 'ml-2025' already exists and is not an empty directory.\n",
            "/content/gdrive/MyDrive/ml2025-colab_files/ml-2025\n"
          ]
        }
      ]
    },
    {
      "cell_type": "markdown",
      "source": [
        "## Install libraries"
      ],
      "metadata": {
        "id": "FaX7uEgaT3Lz"
      }
    },
    {
      "cell_type": "code",
      "source": [
        "!pip install poetry"
      ],
      "metadata": {
        "colab": {
          "base_uri": "https://localhost:8080/"
        },
        "id": "YWrwV7F7n6_B",
        "outputId": "959116d6-e7ed-4d6c-c766-d2b8c7a7025c",
        "collapsed": true
      },
      "execution_count": null,
      "outputs": [
        {
          "output_type": "stream",
          "name": "stdout",
          "text": [
            "Collecting poetry\n",
            "  Downloading poetry-2.1.2-py3-none-any.whl.metadata (7.1 kB)\n",
            "Collecting build<2.0.0,>=1.2.1 (from poetry)\n",
            "  Downloading build-1.2.2.post1-py3-none-any.whl.metadata (6.5 kB)\n",
            "Requirement already satisfied: cachecontrol<0.15.0,>=0.14.0 in /usr/local/lib/python3.11/dist-packages (from cachecontrol[filecache]<0.15.0,>=0.14.0->poetry) (0.14.2)\n",
            "Collecting cleo<3.0.0,>=2.1.0 (from poetry)\n",
            "  Downloading cleo-2.1.0-py3-none-any.whl.metadata (12 kB)\n",
            "Collecting dulwich<0.23.0,>=0.22.6 (from poetry)\n",
            "  Downloading dulwich-0.22.8-cp311-cp311-manylinux_2_17_x86_64.manylinux2014_x86_64.whl.metadata (4.9 kB)\n",
            "Requirement already satisfied: fastjsonschema<3.0.0,>=2.18.0 in /usr/local/lib/python3.11/dist-packages (from poetry) (2.21.1)\n",
            "Collecting findpython<0.7.0,>=0.6.2 (from poetry)\n",
            "  Downloading findpython-0.6.3-py3-none-any.whl.metadata (5.3 kB)\n",
            "Collecting installer<0.8.0,>=0.7.0 (from poetry)\n",
            "  Downloading installer-0.7.0-py3-none-any.whl.metadata (936 bytes)\n",
            "Collecting keyring<26.0.0,>=25.1.0 (from poetry)\n",
            "  Downloading keyring-25.6.0-py3-none-any.whl.metadata (20 kB)\n",
            "Requirement already satisfied: packaging>=24.0 in /usr/local/lib/python3.11/dist-packages (from poetry) (24.2)\n",
            "Collecting pbs-installer<2026.0.0,>=2025.1.6 (from pbs-installer[download,install]<2026.0.0,>=2025.1.6->poetry)\n",
            "  Downloading pbs_installer-2025.3.17-py3-none-any.whl.metadata (991 bytes)\n",
            "Collecting pkginfo<2.0,>=1.12 (from poetry)\n",
            "  Downloading pkginfo-1.12.1.2-py3-none-any.whl.metadata (13 kB)\n",
            "Requirement already satisfied: platformdirs<5,>=3.0.0 in /usr/local/lib/python3.11/dist-packages (from poetry) (4.3.7)\n",
            "Collecting poetry-core==2.1.2 (from poetry)\n",
            "  Downloading poetry_core-2.1.2-py3-none-any.whl.metadata (3.5 kB)\n",
            "Collecting pyproject-hooks<2.0.0,>=1.0.0 (from poetry)\n",
            "  Downloading pyproject_hooks-1.2.0-py3-none-any.whl.metadata (1.3 kB)\n",
            "Requirement already satisfied: requests<3.0,>=2.26 in /usr/local/lib/python3.11/dist-packages (from poetry) (2.32.3)\n",
            "Requirement already satisfied: requests-toolbelt<2.0.0,>=1.0.0 in /usr/local/lib/python3.11/dist-packages (from poetry) (1.0.0)\n",
            "Requirement already satisfied: shellingham<2.0,>=1.5 in /usr/local/lib/python3.11/dist-packages (from poetry) (1.5.4)\n",
            "Collecting tomlkit<1.0.0,>=0.11.4 (from poetry)\n",
            "  Downloading tomlkit-0.13.2-py3-none-any.whl.metadata (2.7 kB)\n",
            "Collecting trove-classifiers>=2022.5.19 (from poetry)\n",
            "  Downloading trove_classifiers-2025.3.19.19-py3-none-any.whl.metadata (2.3 kB)\n",
            "Collecting virtualenv<21.0.0,>=20.26.6 (from poetry)\n",
            "  Downloading virtualenv-20.30.0-py3-none-any.whl.metadata (4.5 kB)\n",
            "Requirement already satisfied: msgpack<2.0.0,>=0.5.2 in /usr/local/lib/python3.11/dist-packages (from cachecontrol<0.15.0,>=0.14.0->cachecontrol[filecache]<0.15.0,>=0.14.0->poetry) (1.1.0)\n",
            "Requirement already satisfied: filelock>=3.8.0 in /usr/local/lib/python3.11/dist-packages (from cachecontrol[filecache]<0.15.0,>=0.14.0->poetry) (3.18.0)\n",
            "Collecting crashtest<0.5.0,>=0.4.1 (from cleo<3.0.0,>=2.1.0->poetry)\n",
            "  Downloading crashtest-0.4.1-py3-none-any.whl.metadata (1.1 kB)\n",
            "Collecting rapidfuzz<4.0.0,>=3.0.0 (from cleo<3.0.0,>=2.1.0->poetry)\n",
            "  Downloading rapidfuzz-3.13.0-cp311-cp311-manylinux_2_17_x86_64.manylinux2014_x86_64.whl.metadata (12 kB)\n",
            "Requirement already satisfied: urllib3>=1.25 in /usr/local/lib/python3.11/dist-packages (from dulwich<0.23.0,>=0.22.6->poetry) (2.3.0)\n",
            "Requirement already satisfied: SecretStorage>=3.2 in /usr/lib/python3/dist-packages (from keyring<26.0.0,>=25.1.0->poetry) (3.3.1)\n",
            "Requirement already satisfied: jeepney>=0.4.2 in /usr/lib/python3/dist-packages (from keyring<26.0.0,>=25.1.0->poetry) (0.7.1)\n",
            "Requirement already satisfied: importlib_metadata>=4.11.4 in /usr/local/lib/python3.11/dist-packages (from keyring<26.0.0,>=25.1.0->poetry) (8.6.1)\n",
            "Collecting jaraco.classes (from keyring<26.0.0,>=25.1.0->poetry)\n",
            "  Downloading jaraco.classes-3.4.0-py3-none-any.whl.metadata (2.6 kB)\n",
            "Collecting jaraco.functools (from keyring<26.0.0,>=25.1.0->poetry)\n",
            "  Downloading jaraco.functools-4.1.0-py3-none-any.whl.metadata (2.9 kB)\n",
            "Collecting jaraco.context (from keyring<26.0.0,>=25.1.0->poetry)\n",
            "  Downloading jaraco.context-6.0.1-py3-none-any.whl.metadata (4.1 kB)\n",
            "Requirement already satisfied: httpx<1,>=0.27.0 in /usr/local/lib/python3.11/dist-packages (from pbs-installer[download,install]<2026.0.0,>=2025.1.6->poetry) (0.28.1)\n",
            "Requirement already satisfied: zstandard>=0.21.0 in /usr/local/lib/python3.11/dist-packages (from pbs-installer[download,install]<2026.0.0,>=2025.1.6->poetry) (0.23.0)\n",
            "Requirement already satisfied: charset-normalizer<4,>=2 in /usr/local/lib/python3.11/dist-packages (from requests<3.0,>=2.26->poetry) (3.4.1)\n",
            "Requirement already satisfied: idna<4,>=2.5 in /usr/local/lib/python3.11/dist-packages (from requests<3.0,>=2.26->poetry) (3.10)\n",
            "Requirement already satisfied: certifi>=2017.4.17 in /usr/local/lib/python3.11/dist-packages (from requests<3.0,>=2.26->poetry) (2025.1.31)\n",
            "Collecting distlib<1,>=0.3.7 (from virtualenv<21.0.0,>=20.26.6->poetry)\n",
            "  Downloading distlib-0.3.9-py2.py3-none-any.whl.metadata (5.2 kB)\n",
            "Requirement already satisfied: anyio in /usr/local/lib/python3.11/dist-packages (from httpx<1,>=0.27.0->pbs-installer[download,install]<2026.0.0,>=2025.1.6->poetry) (4.9.0)\n",
            "Requirement already satisfied: httpcore==1.* in /usr/local/lib/python3.11/dist-packages (from httpx<1,>=0.27.0->pbs-installer[download,install]<2026.0.0,>=2025.1.6->poetry) (1.0.7)\n",
            "Requirement already satisfied: h11<0.15,>=0.13 in /usr/local/lib/python3.11/dist-packages (from httpcore==1.*->httpx<1,>=0.27.0->pbs-installer[download,install]<2026.0.0,>=2025.1.6->poetry) (0.14.0)\n",
            "Requirement already satisfied: zipp>=3.20 in /usr/local/lib/python3.11/dist-packages (from importlib_metadata>=4.11.4->keyring<26.0.0,>=25.1.0->poetry) (3.21.0)\n",
            "Requirement already satisfied: more-itertools in /usr/local/lib/python3.11/dist-packages (from jaraco.classes->keyring<26.0.0,>=25.1.0->poetry) (10.6.0)\n",
            "Collecting backports.tarfile (from jaraco.context->keyring<26.0.0,>=25.1.0->poetry)\n",
            "  Downloading backports.tarfile-1.2.0-py3-none-any.whl.metadata (2.0 kB)\n",
            "Requirement already satisfied: sniffio>=1.1 in /usr/local/lib/python3.11/dist-packages (from anyio->httpx<1,>=0.27.0->pbs-installer[download,install]<2026.0.0,>=2025.1.6->poetry) (1.3.1)\n",
            "Requirement already satisfied: typing_extensions>=4.5 in /usr/local/lib/python3.11/dist-packages (from anyio->httpx<1,>=0.27.0->pbs-installer[download,install]<2026.0.0,>=2025.1.6->poetry) (4.13.1)\n",
            "Downloading poetry-2.1.2-py3-none-any.whl (277 kB)\n",
            "\u001b[2K   \u001b[90m━━━━━━━━━━━━━━━━━━━━━━━━━━━━━━━━━━━━━━━━\u001b[0m \u001b[32m277.8/277.8 kB\u001b[0m \u001b[31m15.6 MB/s\u001b[0m eta \u001b[36m0:00:00\u001b[0m\n",
            "\u001b[?25hDownloading poetry_core-2.1.2-py3-none-any.whl (332 kB)\n",
            "\u001b[2K   \u001b[90m━━━━━━━━━━━━━━━━━━━━━━━━━━━━━━━━━━━━━━━━\u001b[0m \u001b[32m332.3/332.3 kB\u001b[0m \u001b[31m30.4 MB/s\u001b[0m eta \u001b[36m0:00:00\u001b[0m\n",
            "\u001b[?25hDownloading build-1.2.2.post1-py3-none-any.whl (22 kB)\n",
            "Downloading cleo-2.1.0-py3-none-any.whl (78 kB)\n",
            "\u001b[2K   \u001b[90m━━━━━━━━━━━━━━━━━━━━━━━━━━━━━━━━━━━━━━━━\u001b[0m \u001b[32m78.7/78.7 kB\u001b[0m \u001b[31m6.7 MB/s\u001b[0m eta \u001b[36m0:00:00\u001b[0m\n",
            "\u001b[?25hDownloading dulwich-0.22.8-cp311-cp311-manylinux_2_17_x86_64.manylinux2014_x86_64.whl (1.0 MB)\n",
            "\u001b[2K   \u001b[90m━━━━━━━━━━━━━━━━━━━━━━━━━━━━━━━━━━━━━━━━\u001b[0m \u001b[32m1.0/1.0 MB\u001b[0m \u001b[31m57.9 MB/s\u001b[0m eta \u001b[36m0:00:00\u001b[0m\n",
            "\u001b[?25hDownloading findpython-0.6.3-py3-none-any.whl (20 kB)\n",
            "Downloading installer-0.7.0-py3-none-any.whl (453 kB)\n",
            "\u001b[2K   \u001b[90m━━━━━━━━━━━━━━━━━━━━━━━━━━━━━━━━━━━━━━━━\u001b[0m \u001b[32m453.8/453.8 kB\u001b[0m \u001b[31m32.6 MB/s\u001b[0m eta \u001b[36m0:00:00\u001b[0m\n",
            "\u001b[?25hDownloading keyring-25.6.0-py3-none-any.whl (39 kB)\n",
            "Downloading pbs_installer-2025.3.17-py3-none-any.whl (53 kB)\n",
            "\u001b[2K   \u001b[90m━━━━━━━━━━━━━━━━━━━━━━━━━━━━━━━━━━━━━━━━\u001b[0m \u001b[32m53.3/53.3 kB\u001b[0m \u001b[31m5.1 MB/s\u001b[0m eta \u001b[36m0:00:00\u001b[0m\n",
            "\u001b[?25hDownloading pkginfo-1.12.1.2-py3-none-any.whl (32 kB)\n",
            "Downloading pyproject_hooks-1.2.0-py3-none-any.whl (10 kB)\n",
            "Downloading tomlkit-0.13.2-py3-none-any.whl (37 kB)\n",
            "Downloading trove_classifiers-2025.3.19.19-py3-none-any.whl (13 kB)\n",
            "Downloading virtualenv-20.30.0-py3-none-any.whl (4.3 MB)\n",
            "\u001b[2K   \u001b[90m━━━━━━━━━━━━━━━━━━━━━━━━━━━━━━━━━━━━━━━━\u001b[0m \u001b[32m4.3/4.3 MB\u001b[0m \u001b[31m97.9 MB/s\u001b[0m eta \u001b[36m0:00:00\u001b[0m\n",
            "\u001b[?25hDownloading crashtest-0.4.1-py3-none-any.whl (7.6 kB)\n",
            "Downloading distlib-0.3.9-py2.py3-none-any.whl (468 kB)\n",
            "\u001b[2K   \u001b[90m━━━━━━━━━━━━━━━━━━━━━━━━━━━━━━━━━━━━━━━━\u001b[0m \u001b[32m469.0/469.0 kB\u001b[0m \u001b[31m38.7 MB/s\u001b[0m eta \u001b[36m0:00:00\u001b[0m\n",
            "\u001b[?25hDownloading rapidfuzz-3.13.0-cp311-cp311-manylinux_2_17_x86_64.manylinux2014_x86_64.whl (3.1 MB)\n",
            "\u001b[2K   \u001b[90m━━━━━━━━━━━━━━━━━━━━━━━━━━━━━━━━━━━━━━━━\u001b[0m \u001b[32m3.1/3.1 MB\u001b[0m \u001b[31m96.1 MB/s\u001b[0m eta \u001b[36m0:00:00\u001b[0m\n",
            "\u001b[?25hDownloading jaraco.classes-3.4.0-py3-none-any.whl (6.8 kB)\n",
            "Downloading jaraco.context-6.0.1-py3-none-any.whl (6.8 kB)\n",
            "Downloading jaraco.functools-4.1.0-py3-none-any.whl (10 kB)\n",
            "Downloading backports.tarfile-1.2.0-py3-none-any.whl (30 kB)\n",
            "Installing collected packages: trove-classifiers, distlib, virtualenv, tomlkit, rapidfuzz, pyproject-hooks, poetry-core, pkginfo, pbs-installer, jaraco.functools, jaraco.classes, installer, findpython, dulwich, crashtest, backports.tarfile, jaraco.context, cleo, build, keyring, poetry\n",
            "  Attempting uninstall: keyring\n",
            "    Found existing installation: keyring 23.5.0\n",
            "    Uninstalling keyring-23.5.0:\n",
            "      Successfully uninstalled keyring-23.5.0\n",
            "Successfully installed backports.tarfile-1.2.0 build-1.2.2.post1 cleo-2.1.0 crashtest-0.4.1 distlib-0.3.9 dulwich-0.22.8 findpython-0.6.3 installer-0.7.0 jaraco.classes-3.4.0 jaraco.context-6.0.1 jaraco.functools-4.1.0 keyring-25.6.0 pbs-installer-2025.3.17 pkginfo-1.12.1.2 poetry-2.1.2 poetry-core-2.1.2 pyproject-hooks-1.2.0 rapidfuzz-3.13.0 tomlkit-0.13.2 trove-classifiers-2025.3.19.19 virtualenv-20.30.0\n"
          ]
        }
      ]
    },
    {
      "cell_type": "code",
      "source": [
        "!apt install python3.12-full"
      ],
      "metadata": {
        "id": "MBENzIZSn9V_",
        "colab": {
          "base_uri": "https://localhost:8080/"
        },
        "outputId": "d1164ef6-4c65-4e1a-ae61-077c3314ee11",
        "collapsed": true
      },
      "execution_count": null,
      "outputs": [
        {
          "output_type": "stream",
          "name": "stdout",
          "text": [
            "Reading package lists... Done\n",
            "Building dependency tree... Done\n",
            "Reading state information... Done\n",
            "The following additional packages will be installed:\n",
            "  fonts-mathjax idle-python3.12 libjs-mathjax libpython3.12-stdlib libpython3.12-testsuite\n",
            "  python3.12 python3.12-examples python3.12-gdbm python3.12-lib2to3 python3.12-tk python3.12-venv\n",
            "Suggested packages:\n",
            "  fonts-mathjax-extras fonts-stix libjs-mathjax-doc python3.12-dev python3.12-gdbm-dbg tix\n",
            "  python3.12-tk-dbg\n",
            "The following NEW packages will be installed:\n",
            "  fonts-mathjax idle-python3.12 libjs-mathjax libpython3.12-stdlib libpython3.12-testsuite\n",
            "  python3.12 python3.12-examples python3.12-full python3.12-gdbm python3.12-lib2to3 python3.12-tk\n",
            "  python3.12-venv\n",
            "0 upgraded, 12 newly installed, 0 to remove and 30 not upgraded.\n",
            "Need to get 21.5 MB of archives.\n",
            "After this operation, 107 MB of additional disk space will be used.\n",
            "Get:1 http://archive.ubuntu.com/ubuntu jammy/main amd64 fonts-mathjax all 2.7.9+dfsg-1 [2,208 kB]\n",
            "Get:2 https://ppa.launchpadcontent.net/deadsnakes/ppa/ubuntu jammy/main amd64 libpython3.12-stdlib amd64 3.12.9-1+jammy1 [2,892 kB]\n",
            "Get:3 http://archive.ubuntu.com/ubuntu jammy/main amd64 libjs-mathjax all 2.7.9+dfsg-1 [5,665 kB]\n",
            "Get:4 https://ppa.launchpadcontent.net/deadsnakes/ppa/ubuntu jammy/main amd64 python3.12 amd64 3.12.9-1+jammy1 [2,526 kB]\n",
            "Get:5 https://ppa.launchpadcontent.net/deadsnakes/ppa/ubuntu jammy/main amd64 python3.12-tk amd64 3.12.9-1+jammy1 [153 kB]\n",
            "Get:6 https://ppa.launchpadcontent.net/deadsnakes/ppa/ubuntu jammy/main amd64 idle-python3.12 all 3.12.9-1+jammy1 [409 kB]\n",
            "Get:7 https://ppa.launchpadcontent.net/deadsnakes/ppa/ubuntu jammy/main amd64 libpython3.12-testsuite all 3.12.9-1+jammy1 [4,800 kB]\n",
            "Get:8 https://ppa.launchpadcontent.net/deadsnakes/ppa/ubuntu jammy/main amd64 python3.12-examples all 3.12.9-1+jammy1 [845 kB]\n",
            "Get:9 https://ppa.launchpadcontent.net/deadsnakes/ppa/ubuntu jammy/main amd64 python3.12-venv amd64 3.12.9-1+jammy1 [1,777 kB]\n",
            "Get:10 https://ppa.launchpadcontent.net/deadsnakes/ppa/ubuntu jammy/main amd64 python3.12-gdbm amd64 3.12.9-1+jammy1 [67.4 kB]\n",
            "Get:11 https://ppa.launchpadcontent.net/deadsnakes/ppa/ubuntu jammy/main amd64 python3.12-lib2to3 all 3.12.9-1+jammy1 [128 kB]\n",
            "Get:12 https://ppa.launchpadcontent.net/deadsnakes/ppa/ubuntu jammy/main amd64 python3.12-full amd64 3.12.9-1+jammy1 [1,064 B]\n",
            "Fetched 21.5 MB in 4s (5,122 kB/s)\n",
            "Selecting previously unselected package fonts-mathjax.\n",
            "(Reading database ... 126315 files and directories currently installed.)\n",
            "Preparing to unpack .../00-fonts-mathjax_2.7.9+dfsg-1_all.deb ...\n",
            "Unpacking fonts-mathjax (2.7.9+dfsg-1) ...\n",
            "Selecting previously unselected package libpython3.12-stdlib:amd64.\n",
            "Preparing to unpack .../01-libpython3.12-stdlib_3.12.9-1+jammy1_amd64.deb ...\n",
            "Unpacking libpython3.12-stdlib:amd64 (3.12.9-1+jammy1) ...\n",
            "Selecting previously unselected package python3.12.\n",
            "Preparing to unpack .../02-python3.12_3.12.9-1+jammy1_amd64.deb ...\n",
            "Unpacking python3.12 (3.12.9-1+jammy1) ...\n",
            "Selecting previously unselected package python3.12-tk:amd64.\n",
            "Preparing to unpack .../03-python3.12-tk_3.12.9-1+jammy1_amd64.deb ...\n",
            "Unpacking python3.12-tk:amd64 (3.12.9-1+jammy1) ...\n",
            "Selecting previously unselected package libjs-mathjax.\n",
            "Preparing to unpack .../04-libjs-mathjax_2.7.9+dfsg-1_all.deb ...\n",
            "Unpacking libjs-mathjax (2.7.9+dfsg-1) ...\n",
            "Selecting previously unselected package idle-python3.12.\n",
            "Preparing to unpack .../05-idle-python3.12_3.12.9-1+jammy1_all.deb ...\n",
            "Unpacking idle-python3.12 (3.12.9-1+jammy1) ...\n",
            "Selecting previously unselected package libpython3.12-testsuite.\n",
            "Preparing to unpack .../06-libpython3.12-testsuite_3.12.9-1+jammy1_all.deb ...\n",
            "Unpacking libpython3.12-testsuite (3.12.9-1+jammy1) ...\n",
            "Selecting previously unselected package python3.12-examples.\n",
            "Preparing to unpack .../07-python3.12-examples_3.12.9-1+jammy1_all.deb ...\n",
            "Unpacking python3.12-examples (3.12.9-1+jammy1) ...\n",
            "Selecting previously unselected package python3.12-venv.\n",
            "Preparing to unpack .../08-python3.12-venv_3.12.9-1+jammy1_amd64.deb ...\n",
            "Unpacking python3.12-venv (3.12.9-1+jammy1) ...\n",
            "Selecting previously unselected package python3.12-gdbm:amd64.\n",
            "Preparing to unpack .../09-python3.12-gdbm_3.12.9-1+jammy1_amd64.deb ...\n",
            "Unpacking python3.12-gdbm:amd64 (3.12.9-1+jammy1) ...\n",
            "Selecting previously unselected package python3.12-lib2to3.\n",
            "Preparing to unpack .../10-python3.12-lib2to3_3.12.9-1+jammy1_all.deb ...\n",
            "Unpacking python3.12-lib2to3 (3.12.9-1+jammy1) ...\n",
            "Selecting previously unselected package python3.12-full.\n",
            "Preparing to unpack .../11-python3.12-full_3.12.9-1+jammy1_amd64.deb ...\n",
            "Unpacking python3.12-full (3.12.9-1+jammy1) ...\n",
            "Setting up fonts-mathjax (2.7.9+dfsg-1) ...\n",
            "Setting up libpython3.12-stdlib:amd64 (3.12.9-1+jammy1) ...\n",
            "Setting up libjs-mathjax (2.7.9+dfsg-1) ...\n",
            "Setting up python3.12 (3.12.9-1+jammy1) ...\n",
            "Setting up python3.12-tk:amd64 (3.12.9-1+jammy1) ...\n",
            "Setting up python3.12-lib2to3 (3.12.9-1+jammy1) ...\n",
            "Setting up python3.12-examples (3.12.9-1+jammy1) ...\n",
            "Setting up libpython3.12-testsuite (3.12.9-1+jammy1) ...\n",
            "/usr/lib/python3.12/test/test_fstring.py:1769: SyntaxWarning: invalid escape sequence '\\N'\n",
            "  self.assertEqual(f'{b\"\\N{OX}\"=}', 'b\"\\\\N{OX}\"=b\\'\\\\\\\\N{OX}\\'')\n",
            "Setting up idle-python3.12 (3.12.9-1+jammy1) ...\n",
            "Setting up python3.12-venv (3.12.9-1+jammy1) ...\n",
            "Setting up python3.12-gdbm:amd64 (3.12.9-1+jammy1) ...\n",
            "Setting up python3.12-full (3.12.9-1+jammy1) ...\n",
            "Processing triggers for mailcap (3.70+nmu1ubuntu1) ...\n",
            "Processing triggers for fontconfig (2.13.1-4.2ubuntu5) ...\n",
            "Processing triggers for man-db (2.10.2-1) ...\n"
          ]
        }
      ]
    },
    {
      "cell_type": "code",
      "source": [
        "#!poetry config virtualenvs.in-project true\n",
        "!poetry install"
      ],
      "metadata": {
        "id": "T9kU3Ve3SgNz",
        "colab": {
          "base_uri": "https://localhost:8080/"
        },
        "collapsed": true,
        "outputId": "c5b3a7c5-6993-45ff-b222-e5c6fdb04ff6"
      },
      "execution_count": null,
      "outputs": [
        {
          "output_type": "stream",
          "name": "stdout",
          "text": [
            "\u001b[34mInstalling dependencies from lock file\u001b[39m\n",
            "\n",
            "No dependencies to install or update\n",
            "\n",
            "\u001b[39;1mInstalling\u001b[39;22m the current project: \u001b[36mmlc\u001b[39m (\u001b[39;1m0.1.0\u001b[39;22m)\u001b[1G\u001b[2K\u001b[39;1mInstalling\u001b[39;22m the current project: \u001b[36mmlc\u001b[39m (\u001b[32m0.1.0\u001b[39m)\n"
          ]
        }
      ]
    },
    {
      "cell_type": "markdown",
      "source": [
        "## Test `mlc`"
      ],
      "metadata": {
        "id": "O5wj6XosUq9i"
      }
    },
    {
      "cell_type": "code",
      "source": [
        "!poetry run mlc"
      ],
      "metadata": {
        "collapsed": true,
        "id": "kU2wdMCmS_Pk"
      },
      "execution_count": null,
      "outputs": []
    },
    {
      "cell_type": "markdown",
      "source": [
        "## Download data"
      ],
      "metadata": {
        "id": "cy4bYeoUVAl9"
      }
    },
    {
      "cell_type": "code",
      "source": [
        "%%bash\n",
        "\n",
        "cd data\n",
        "if [ -d cats_and_dogs/ ] ; then\n",
        "    echo done\n",
        "    exit 0\n",
        "fi\n",
        "\n",
        "wget \"https://download.microsoft.com/download/3/e/1/3e1c3f21-ecdb-4869-8368-6deba77b919f/kagglecatsanddogs_5340.zip\"\n",
        "unzip kagglecatsanddogs_5340.zip\n",
        "\n",
        "rm kagglecatsanddogs_5340.zip\n",
        "\n",
        "mv PetImages cats_and_dogs\n",
        "cd cats_and_dogs\n",
        "\n",
        "# remove corrupted\n",
        "rm Cat/666.jpg\n",
        "rm Dog/10733.jpg\n",
        "rm Dog/11702.jpg\n",
        "rm Dog/4203.jpg\n",
        "\n",
        "# remove thumbnails\n",
        "rm Dog/Thumbs.db Cat/Thumbs.db"
      ],
      "metadata": {
        "id": "vJgeroAzVAGH"
      },
      "execution_count": null,
      "outputs": []
    },
    {
      "cell_type": "code",
      "source": [
        "!poetry run mlc"
      ],
      "metadata": {
        "id": "USeaQ0Z1-U0b"
      },
      "execution_count": null,
      "outputs": []
    },
    {
      "cell_type": "code",
      "source": [
        "!poetry run mlc"
      ],
      "metadata": {
        "id": "pM6Z4bcz-WZp"
      },
      "execution_count": null,
      "outputs": []
    },
    {
      "cell_type": "code",
      "source": [
        "!poetry run mlc test mlc.model.spiral_p.model"
      ],
      "metadata": {
        "id": "3VCYfBsR-fi0"
      },
      "execution_count": null,
      "outputs": []
    },
    {
      "cell_type": "code",
      "source": [],
      "metadata": {
        "id": "IywEDxjK_9y1"
      },
      "execution_count": null,
      "outputs": []
    }
  ]
}